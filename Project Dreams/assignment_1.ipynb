{
 "cells": [
  {
   "cell_type": "markdown",
   "metadata": {},
   "source": [
    "# __Project DREAMS: Data Analysis Assignment__\n",
    "---\n",
    "## __Introduction__\n",
    "This notebook presents five research questions for Project DREAMS (DataCamp Resources & Engagement Analytics Monitoring System). These questions are designed to extract meaningful insights from the DataCamp Data Connector to inform workshop planning, interventions, and resource allocation for DataCamp scholars under GDG On Campus PUP supervision. Each question aligns with the project objectives of enhancing monitoring capabilities and developing a comprehensive analytics platform.\n",
    "\n",
    "---\n",
    "## __Research Questions__\n",
    "\n",
    "### __Research Question 1:__ How does the amount of XP earned by scholars relate to their course completion rates?\n",
    "\n",
    "#### __Relevance__:\n",
    "#### __Tables and columns required__:\n",
    "#### __Methodology__:\n",
    "#### __Potential insights and actions__:\n",
    "\n",
    "### __Research Question 2:__ What is the relationship between the experience points (XP) earned and course completion rates? \n",
    "\n",
    "#### __Relevance__:\n",
    "#### __Tables and columns required__:\n",
    "#### __Methodology__:\n",
    "#### __Potential insights and actions__:\n",
    "\n",
    "### __Research Question 3:__ What is the effect of earning experience points (XP) on learner motivation and progress?\n",
    "\n",
    "#### __Relevance__:\n",
    "#### __Tables and columns required__:\n",
    "#### __Methodology__:\n",
    "#### __Potential insights and actions__:\n",
    "\n",
    "### __Research Question 4:__ How do both time spent and experience points (XP) combined predict course completion rates?\n",
    "\n",
    "#### __Relevance__:\n",
    "#### __Tables and columns required__:\n",
    "#### __Methodology__:\n",
    "#### __Potential insights and actions__:\n",
    "\n",
    "### __Research Question 5:__ \n",
    "\n",
    "#### __Relevance__:\n",
    "#### __Tables and columns required__:\n",
    "#### __Methodology__:\n",
    "#### __Potential insights and actions__:\n",
    "\n",
    "---\n",
    "## Conclusion\n",
    "\n",
    "---"
   ]
  }
 ],
 "metadata": {
  "language_info": {
   "name": "python"
  }
 },
 "nbformat": 4,
 "nbformat_minor": 2
}
