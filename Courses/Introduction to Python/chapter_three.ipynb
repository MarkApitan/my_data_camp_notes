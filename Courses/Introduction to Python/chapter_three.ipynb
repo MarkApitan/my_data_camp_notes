{
 "cells": [
  {
   "cell_type": "markdown",
   "metadata": {},
   "source": [
    "# NumPy\n",
    "\n",
    "- Alternative to python list\n",
    "- Calculations over entire arrays\n",
    "- Easy and Fast"
   ]
  },
  {
   "cell_type": "code",
   "execution_count": 2,
   "metadata": {},
   "outputs": [
    {
     "name": "stdout",
     "output_type": "stream",
     "text": [
      "[22.85714286 24.69135802 22.03856749 24.93074792 23.67125363]\n"
     ]
    }
   ],
   "source": [
    "# Creating a numpy array\n",
    "import numpy as np\n",
    "\n",
    "weight = [70, 80, 60, 90, 75]\n",
    "height = [1.75, 1.80, 1.65, 1.90, 1.78]\n",
    "\n",
    "np_weight = np.array(weight)\n",
    "np_height = np.array(height)\n",
    "\n",
    "bmi = np_weight / np_height ** 2\n",
    "\n",
    "print(bmi)"
   ]
  },
  {
   "cell_type": "code",
   "execution_count": null,
   "metadata": {},
   "outputs": [
    {
     "name": "stdout",
     "output_type": "stream",
     "text": [
      "24.691358024691358\n",
      "[False  True False  True  True]\n",
      "[24.69135802 24.93074792 23.67125363]\n"
     ]
    }
   ],
   "source": [
    "# Numpy Subsetting\n",
    "\n",
    "# Print the second element in the bmi array\n",
    "print(bmi[1])\n",
    "\n",
    "# Print a boolean array where each element indicates if the corresponding bmi value is greater than 23\n",
    "print(bmi > 23)\n",
    "\n",
    "# Print the elements in the bmi array that are greater than 23\n",
    "print(bmi[bmi > 23])"
   ]
  },
  {
   "cell_type": "markdown",
   "metadata": {},
   "source": [
    "## 2D Numpy Array\n"
   ]
  },
  {
   "cell_type": "code",
   "execution_count": 6,
   "metadata": {},
   "outputs": [
    {
     "name": "stdout",
     "output_type": "stream",
     "text": [
      "80.0\n",
      "80.0\n",
      "[[80.   60.  ]\n",
      " [ 1.8   1.65]]\n"
     ]
    }
   ],
   "source": [
    "height_weight = [[70, 80, 60, 90, 75],[1.75, 1.80, 1.65, 1.90, 1.78]]\n",
    "np_height_weight = np.array(height_weight)\n",
    "\n",
    "print(np_height_weight[0][1])\n",
    "print(np_height_weight[0,1])\n",
    "\n",
    "print(np_height_weight[: , 1:3])"
   ]
  },
  {
   "cell_type": "code",
   "execution_count": 7,
   "metadata": {},
   "outputs": [
    {
     "name": "stdout",
     "output_type": "stream",
     "text": [
      "<class 'numpy.ndarray'>\n",
      "(4, 2)\n"
     ]
    }
   ],
   "source": [
    "import numpy as np\n",
    "\n",
    "baseball = [[180, 78.4],\n",
    "            [215, 102.7],\n",
    "            [210, 98.5],\n",
    "            [188, 75.2]]\n",
    "\n",
    "# Create a 2D numpy array from baseball: np_baseball\n",
    "np_baseball = np.array(baseball)\n",
    "\n",
    "# Print out the type of np_baseball\n",
    "print(type(np_baseball))\n",
    "\n",
    "# Print out the shape of np_baseball\n",
    "print(np_baseball.shape)"
   ]
  }
 ],
 "metadata": {
  "kernelspec": {
   "display_name": "Python 3",
   "language": "python",
   "name": "python3"
  },
  "language_info": {
   "codemirror_mode": {
    "name": "ipython",
    "version": 3
   },
   "file_extension": ".py",
   "mimetype": "text/x-python",
   "name": "python",
   "nbconvert_exporter": "python",
   "pygments_lexer": "ipython3",
   "version": "3.12.4"
  }
 },
 "nbformat": 4,
 "nbformat_minor": 2
}
