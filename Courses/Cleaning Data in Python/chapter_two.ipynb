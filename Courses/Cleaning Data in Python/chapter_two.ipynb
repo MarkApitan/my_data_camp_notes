{
 "cells": [
  {
   "cell_type": "markdown",
   "metadata": {},
   "source": [
    "## Text and categorical data problems"
   ]
  }
 ],
 "metadata": {
  "language_info": {
   "name": "python"
  }
 },
 "nbformat": 4,
 "nbformat_minor": 2
}
