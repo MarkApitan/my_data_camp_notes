{
 "cells": [
  {
   "cell_type": "markdown",
   "metadata": {},
   "source": [
    "# Cleaning Data in Python\n",
    "\n",
    "## Data type constraints"
   ]
  },
  {
   "cell_type": "code",
   "execution_count": null,
   "metadata": {},
   "outputs": [],
   "source": [
    "# for pandas - convert string to int\n",
    "sales['Revenue'] = sales['Revenue'].str.strip('$')\n",
    "sales['Revenue'] = sales['Revenue'].astype('int')\n",
    "\n",
    "# verify if it is converted\n",
    "assert sales['Revenue'].dtype =='int'"
   ]
  },
  {
   "cell_type": "code",
   "execution_count": null,
   "metadata": {},
   "outputs": [],
   "source": [
    "import pandas as pd\n",
    "filename = \"ride_sharing_new.csv\"\n",
    "ride_sharing = pd.read_csv(filename, sep = ',')\n",
    "\n",
    "# Strip duration of minutes\n",
    "ride_sharing['duration_trim'] = ride_sharing['duration'].str.strip('minutes')\n",
    "\n",
    "# Convert duration to integer\n",
    "ride_sharing['duration_time'] = ride_sharing['duration_trim'].astype('int')\n",
    "\n",
    "# Write an assert statement making sure of conversion\n",
    "assert ride_sharing['duration_time'].dtype == 'int'\n",
    "\n",
    "# Print formed columns and calculate average ride duration \n",
    "print(ride_sharing[['duration','duration_trim','duration_time']])\n",
    "print(ride_sharing['duration_time'].mean())"
   ]
  },
  {
   "cell_type": "markdown",
   "metadata": {},
   "source": [
    "## Data range constraints\n",
    "\n",
    "### How to deal with out of range data?\n",
    "- Dropping data\n",
    "- Setting custom minimums and maximums\n",
    "- Treat as missing and impute\n",
    "- Setting custom value depending on business assumptions"
   ]
  },
  {
   "cell_type": "code",
   "execution_count": null,
   "metadata": {},
   "outputs": [],
   "source": [
    "import pandas as pd\n",
    "import datetime as dt\n",
    "# Output movies with rating > 5\n",
    "movies[movies['avg_rating']>5]\n",
    "\n",
    "# Drop values using filtering\n",
    "movies = movies[movies['avg_rating']<=5]\n",
    "\n",
    "# Drop values using .drop()\n",
    "movies.drop(movies[movies['avg_rating']>5].index, inplace = True)\n",
    "\n",
    "# Convert avg_rating >5 to 5\n",
    "movies.loc[movies['avg_rating']>5, 'avg_rating'] = 5\n",
    "\n",
    "# Convert to date\n",
    "user_signups['subcription_date'] = pd.to_datetime(user_signups['subcription_date']).dt.date\n",
    "\n",
    "today_date = dt.date.today()\n",
    "\n",
    "# Drop values using filtering\n",
    "user_signups = user_signups[user_signups['subcription_date']< today_date] \n",
    "\n",
    "# Drop values using.drop\n",
    "user_signups.drop(user_signups[user_signups[subcription_date]>today_date].index, inplace = True)"
   ]
  },
  {
   "cell_type": "markdown",
   "metadata": {},
   "source": [
    "## Uniqueness Constraints"
   ]
  },
  {
   "cell_type": "code",
   "execution_count": null,
   "metadata": {},
   "outputs": [],
   "source": [
    "# Get duplicates across all columns\n",
    "duplicates = height_weight.duplicated()\n",
    "\n",
    "# Get duplicates rows\n",
    "height_weight[duplicates]"
   ]
  },
  {
   "cell_type": "markdown",
   "metadata": {},
   "source": [
    "### How to find duplicate rows?\n",
    "\n",
    "The .duplicated() method\n",
    "- subset: List of column names to check for duplications\n",
    "- keep: Whether to keep first ('first'), last ('last') or all (False) duplicate values\n",
    "\n",
    "The .drop_duplicates()method\n",
    "- subset: List of column names to check for duplications\n",
    "- keep: Whether to keep first ('first'), last ('last') or all (False) duplicate values\n",
    "- inplace: Drop duplicated rows directly inside DataFrame without creating new object(True)"
   ]
  },
  {
   "cell_type": "code",
   "execution_count": null,
   "metadata": {},
   "outputs": [],
   "source": [
    "import pandas as pd\n",
    "filename = \"ride_sharing_new.csv\"\n",
    "\n",
    "# Column names to check for duplication\n",
    "column_names = ['first_name', 'last_name','address']\n",
    "duplicates = height_weight.duplicated(subset=column_names, keep = False)\n",
    "\n",
    "# Sort values \n",
    "height_weight[duplicates].sort_values(by = 'first_name')\n",
    "\n",
    "# Drop complete duplicates\n",
    "height_weight.drop_duplicates(inplace = True)\n",
    "\n",
    "# Group by column names and produce statistical summaries\n",
    "summaries = {'height':'max','weight':'mean'}\n",
    "height_weight = height_weight.groupby(by = column_names).agg(summaries).reset_index()"
   ]
  },
  {
   "cell_type": "code",
   "execution_count": null,
   "metadata": {},
   "outputs": [],
   "source": [
    "ride_sharing = pd.read_csv(filename, sep=',')\n",
    "\n",
    "# Load the dataset\n",
    "filename = \"ride_sharing_new.csv\"\n",
    "ride_sharing = pd.read_csv(filename, sep=',')\n",
    "\n",
    "# Find duplicates\n",
    "duplicates = ride_sharing.duplicated(subset = 'ride_id', keep = False)\n",
    "\n",
    "# Sort your duplicated rides\n",
    "duplicated_rides = ride_sharing[duplicates].sort_values('ride_id')\n",
    "\n",
    "# Print relevant columns of duplicated_rides\n",
    "print(duplicated_rides[['ride_id','duration','user_birth_year']])"
   ]
  },
  {
   "cell_type": "code",
   "execution_count": null,
   "metadata": {},
   "outputs": [],
   "source": [
    "# Drop complete duplicates from ride_sharing\n",
    "ride_dup = ride_sharing.drop_duplicates()\n",
    "\n",
    "# Create statistics dictionary for aggregation function\n",
    "statistics = {'user_birth_year': 'min', 'duration': 'mean'}\n",
    "\n",
    "# Group by ride_id and compute new statistics\n",
    "ride_unique = ride_dup.groupby(by = 'ride_id').agg(statistics).reset_index()\n",
    "\n",
    "# Find duplicated values again\n",
    "duplicates = ride_unique.duplicated(subset = 'ride_id', keep = False)\n",
    "duplicated_rides = ride_unique[duplicates == True]\n",
    "\n",
    "# Assert duplicates are processed\n",
    "assert duplicated_rides.shape[0] == 0"
   ]
  }
 ],
 "metadata": {
  "kernelspec": {
   "display_name": "Python 3",
   "language": "python",
   "name": "python3"
  },
  "language_info": {
   "codemirror_mode": {
    "name": "ipython",
    "version": 3
   },
   "file_extension": ".py",
   "mimetype": "text/x-python",
   "name": "python",
   "nbconvert_exporter": "python",
   "pygments_lexer": "ipython3",
   "version": "3.12.4"
  }
 },
 "nbformat": 4,
 "nbformat_minor": 2
}
