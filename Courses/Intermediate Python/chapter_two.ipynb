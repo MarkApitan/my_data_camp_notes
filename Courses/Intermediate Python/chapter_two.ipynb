{
 "cells": [
  {
   "cell_type": "markdown",
   "metadata": {},
   "source": [
    "# Dictionaries and Pandas\n",
    "\n",
    "## Deleting item in dictionary\n",
    "\n",
    "- use del function\n",
    "- del(dict_name['key name'])\n",
    "\n",
    "## List VS Dictionary\n",
    "\n",
    "### List\n",
    "- Select, Update, and Remove with []\n",
    "- Indexed by ranged of numbers\n",
    "- Collection of values - order matters, for selecting entire subsets\n",
    "\n",
    "### Dictionary \n",
    "- Select, Update, and Remove with []\n",
    "- Indexed by unique keys\n",
    "- Lookup table with unique keys"
   ]
  },
  {
   "cell_type": "code",
   "execution_count": 1,
   "metadata": {},
   "outputs": [
    {
     "name": "stdout",
     "output_type": "stream",
     "text": [
      "True\n",
      "{'spain': 'madrid', 'france': 'paris', 'germany': 'berlin', 'norway': 'oslo', 'italy': 'rome', 'poland': 'warsaw'}\n"
     ]
    }
   ],
   "source": [
    "# Definition of dictionary\n",
    "europe = {'spain':'madrid', 'france':'paris', 'germany':'berlin', 'norway':'oslo' }\n",
    "\n",
    "# Add italy to europe\n",
    "europe['italy'] = 'rome'\n",
    "\n",
    "# Print out italy in europe\n",
    "print('italy' in europe)\n",
    "\n",
    "# Add poland to europe\n",
    "europe['poland'] = 'warsaw'\n",
    "\n",
    "# Print europe\n",
    "print(europe)"
   ]
  },
  {
   "cell_type": "code",
   "execution_count": 2,
   "metadata": {},
   "outputs": [
    {
     "name": "stdout",
     "output_type": "stream",
     "text": [
      "{'spain': 'madrid', 'france': 'paris', 'germany': 'berlin', 'norway': 'oslo', 'italy': 'rome', 'poland': 'warsaw'}\n"
     ]
    }
   ],
   "source": [
    "# Definition of dictionary\n",
    "europe = {'spain':'madrid', 'france':'paris', 'germany':'bonn',\n",
    "          'norway':'oslo', 'italy':'rome', 'poland':'warsaw',\n",
    "          'australia':'vienna' }\n",
    "\n",
    "# Update capital of germany\n",
    "europe['germany'] = 'berlin'\n",
    "\n",
    "# Remove australia\n",
    "del(europe['australia'])\n",
    "\n",
    "# Print europe\n",
    "print(europe)"
   ]
  },
  {
   "cell_type": "code",
   "execution_count": 3,
   "metadata": {},
   "outputs": [
    {
     "name": "stdout",
     "output_type": "stream",
     "text": [
      "paris\n",
      "{'spain': {'capital': 'madrid', 'population': 46.77}, 'france': {'capital': 'paris', 'population': 66.03}, 'germany': {'capital': 'berlin', 'population': 80.62}, 'norway': {'capital': 'oslo', 'population': 5.084}, 'italy': {'capital': 'rome', 'population': 59.83}}\n"
     ]
    }
   ],
   "source": [
    "# Dictionary of dictionaries\n",
    "europe = { 'spain': { 'capital':'madrid', 'population':46.77 },\n",
    "           'france': { 'capital':'paris', 'population':66.03 },\n",
    "           'germany': { 'capital':'berlin', 'population':80.62 },\n",
    "           'norway': { 'capital':'oslo', 'population':5.084 } }\n",
    "\n",
    "\n",
    "# Print out the capital of France\n",
    "print(europe['france']['capital'])\n",
    "\n",
    "# Create sub-dictionary data\n",
    "data = {'capital':'rome', 'population':59.83}\n",
    "\n",
    "# Add data to europe under key 'italy'\n",
    "europe['italy'] = data\n",
    "\n",
    "# Print europe\n",
    "print(europe)"
   ]
  },
  {
   "cell_type": "markdown",
   "metadata": {},
   "source": [
    "## Pandas"
   ]
  },
  {
   "cell_type": "code",
   "execution_count": 1,
   "metadata": {},
   "outputs": [
    {
     "name": "stdout",
     "output_type": "stream",
     "text": [
      "         country    capital    area  population\n",
      "BR        Brazil   Brasilia   8.516      200.40\n",
      "RU        Russia     Moscow  17.100      143.50\n",
      "IN         India  New Delhi   3.286     1252.00\n",
      "CH         China    Beijing   9.597     1357.00\n",
      "SA  South Africa   Pretoria   1.221       52.98\n"
     ]
    }
   ],
   "source": [
    "import pandas as pd\n",
    "\n",
    "# Creating a dictionary\n",
    "dict = {\n",
    "    \"country\": [\"Brazil\", \"Russia\", \"India\", \"China\", \"South Africa\"],\n",
    "    \"capital\": [\"Brasilia\", \"Moscow\", \"New Delhi\", \"Beijing\", \"Pretoria\"],\n",
    "    \"area\": [8.516, 17.10, 3.286, 9.597, 1.221],\n",
    "    \"population\": [200.4, 143.5, 1252, 1357, 52.98]\n",
    "}\n",
    "\n",
    "# Converting dictionary to DataFrame\n",
    "df = pd.DataFrame(dict)\n",
    "df.index = ['BR', 'RU', 'IN', 'CH', 'SA']\n",
    "# Display DataFrame\n",
    "print(df)\n"
   ]
  },
  {
   "cell_type": "code",
   "execution_count": 2,
   "metadata": {},
   "outputs": [
    {
     "name": "stdout",
     "output_type": "stream",
     "text": [
      "         country    capital    area  population\n",
      "BR        Brazil   Brasilia   8.516      200.40\n",
      "RU        Russia     Moscow  17.100      143.50\n",
      "IN         India  New Delhi   3.286     1252.00\n",
      "CH         China    Beijing   9.597     1357.00\n",
      "SA  South Africa   Pretoria   1.221       52.98\n"
     ]
    }
   ],
   "source": [
    "brics = pd.read_csv(\"brics.csv\", index_col = 0)\n",
    "print(brics)"
   ]
  },
  {
   "cell_type": "code",
   "execution_count": null,
   "metadata": {},
   "outputs": [
    {
     "name": "stdout",
     "output_type": "stream",
     "text": [
      "BR          Brazil\n",
      "RU          Russia\n",
      "IN           India\n",
      "CH           China\n",
      "SA    South Africa\n",
      "Name: country, dtype: object\n",
      "\n",
      "         country\n",
      "BR        Brazil\n",
      "RU        Russia\n",
      "IN         India\n",
      "CH         China\n",
      "SA  South Africa\n",
      "\n",
      "         country    capital\n",
      "BR        Brazil   Brasilia\n",
      "RU        Russia     Moscow\n",
      "IN         India  New Delhi\n",
      "CH         China    Beijing\n",
      "SA  South Africa   Pretoria\n"
     ]
    }
   ],
   "source": [
    "# 1 set of brackets return a series\n",
    "print(brics[\"country\"])\n",
    "print('')\n",
    "\n",
    "# 2 sets of brackets select the data but keep it in the dataframe\n",
    "print(brics[[\"country\"]])\n",
    "print('')\n",
    "\n",
    "print(brics[['country', 'capital']])"
   ]
  },
  {
   "cell_type": "markdown",
   "metadata": {},
   "source": [
    "## Row Access"
   ]
  },
  {
   "cell_type": "code",
   "execution_count": 3,
   "metadata": {},
   "outputs": [
    {
     "name": "stdout",
     "output_type": "stream",
     "text": [
      "   country    capital    area  population\n",
      "RU  Russia     Moscow  17.100       143.5\n",
      "IN   India  New Delhi   3.286      1252.0\n",
      "CH   China    Beijing   9.597      1357.0\n"
     ]
    }
   ],
   "source": [
    "print(brics[1:4])"
   ]
  },
  {
   "cell_type": "markdown",
   "metadata": {},
   "source": [
    "## loc and iloc"
   ]
  },
  {
   "cell_type": "code",
   "execution_count": 4,
   "metadata": {},
   "outputs": [
    {
     "name": "stdout",
     "output_type": "stream",
     "text": [
      "country       Russia\n",
      "capital       Moscow\n",
      "area            17.1\n",
      "population     143.5\n",
      "Name: RU, dtype: object\n"
     ]
    }
   ],
   "source": [
    "print(brics.loc[\"RU\"])"
   ]
  },
  {
   "cell_type": "code",
   "execution_count": 5,
   "metadata": {},
   "outputs": [
    {
     "name": "stdout",
     "output_type": "stream",
     "text": [
      "   country capital  area  population\n",
      "RU  Russia  Moscow  17.1       143.5\n"
     ]
    }
   ],
   "source": [
    "print(brics.loc[[\"RU\"]])"
   ]
  },
  {
   "cell_type": "code",
   "execution_count": 6,
   "metadata": {},
   "outputs": [
    {
     "name": "stdout",
     "output_type": "stream",
     "text": [
      "   country   capital    area  population\n",
      "RU  Russia    Moscow  17.100       143.5\n",
      "BR  Brazil  Brasilia   8.516       200.4\n"
     ]
    }
   ],
   "source": [
    "print(brics.loc[[\"RU\",\"BR\"]])"
   ]
  },
  {
   "cell_type": "code",
   "execution_count": 7,
   "metadata": {},
   "outputs": [
    {
     "name": "stdout",
     "output_type": "stream",
     "text": [
      "   country   capital\n",
      "RU  Russia    Moscow\n",
      "BR  Brazil  Brasilia\n"
     ]
    }
   ],
   "source": [
    "print(brics.loc[[\"RU\",\"BR\"],['country', 'capital']])"
   ]
  },
  {
   "cell_type": "code",
   "execution_count": 8,
   "metadata": {},
   "outputs": [
    {
     "name": "stdout",
     "output_type": "stream",
     "text": [
      "         country    capital\n",
      "BR        Brazil   Brasilia\n",
      "RU        Russia     Moscow\n",
      "IN         India  New Delhi\n",
      "CH         China    Beijing\n",
      "SA  South Africa   Pretoria\n"
     ]
    }
   ],
   "source": [
    "print(brics.loc[:,['country', 'capital']])"
   ]
  },
  {
   "cell_type": "code",
   "execution_count": 9,
   "metadata": {},
   "outputs": [
    {
     "name": "stdout",
     "output_type": "stream",
     "text": [
      "   country capital  area  population\n",
      "RU  Russia  Moscow  17.1       143.5\n"
     ]
    }
   ],
   "source": [
    "print(brics.iloc[[1]])"
   ]
  },
  {
   "cell_type": "code",
   "execution_count": 14,
   "metadata": {},
   "outputs": [
    {
     "name": "stdout",
     "output_type": "stream",
     "text": [
      "   country    capital\n",
      "RU  Russia     Moscow\n",
      "IN   India  New Delhi\n"
     ]
    }
   ],
   "source": [
    "print(brics.iloc[[1,2],[0,1]])"
   ]
  }
 ],
 "metadata": {
  "kernelspec": {
   "display_name": "Python 3",
   "language": "python",
   "name": "python3"
  },
  "language_info": {
   "codemirror_mode": {
    "name": "ipython",
    "version": 3
   },
   "file_extension": ".py",
   "mimetype": "text/x-python",
   "name": "python",
   "nbconvert_exporter": "python",
   "pygments_lexer": "ipython3",
   "version": "3.12.4"
  }
 },
 "nbformat": 4,
 "nbformat_minor": 2
}
