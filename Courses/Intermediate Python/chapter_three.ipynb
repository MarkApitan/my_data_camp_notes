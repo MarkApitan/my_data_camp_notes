{
 "cells": [
  {
   "cell_type": "markdown",
   "metadata": {},
   "source": [
    "# Logic, Control Flow and Filtering\n",
    "\n",
    "## NumPy Boolean Operators\n",
    "- logical_and()\n",
    "- logical_or()\n",
    "- logical_not"
   ]
  },
  {
   "cell_type": "code",
   "execution_count": 1,
   "metadata": {},
   "outputs": [
    {
     "name": "stdout",
     "output_type": "stream",
     "text": [
      "[False  True False  True]\n",
      "[False False False  True]\n"
     ]
    }
   ],
   "source": [
    "# Create arrays\n",
    "import numpy as np\n",
    "my_house = np.array([18.0, 20.0, 10.75, 9.50])\n",
    "your_house = np.array([14.0, 24.0, 14.25, 9.0])\n",
    "\n",
    "# my_house greater than 18.5 or smaller than 10\n",
    "print(np.logical_or(my_house>18.5, my_house<10))\n",
    "\n",
    "# Both my_house and your_house smaller than 11\n",
    "print(np.logical_and(your_house<11, my_house<11))"
   ]
  },
  {
   "cell_type": "markdown",
   "metadata": {},
   "source": [
    "## Filtering pandas Dataframe"
   ]
  },
  {
   "cell_type": "code",
   "execution_count": 3,
   "metadata": {},
   "outputs": [
    {
     "name": "stdout",
     "output_type": "stream",
     "text": [
      "BR     True\n",
      "RU     True\n",
      "IN    False\n",
      "CH     True\n",
      "SA    False\n",
      "Name: area, dtype: bool\n",
      "---------------------------------------------\n",
      "   country   capital    area  population\n",
      "BR  Brazil  Brasilia   8.516       200.4\n",
      "RU  Russia    Moscow  17.100       143.5\n",
      "CH   China   Beijing   9.597      1357.0\n"
     ]
    }
   ],
   "source": [
    "import numpy as np\n",
    "import pandas as pd\n",
    "brics = pd.read_csv(\"brics.csv\", index_col = 0)\n",
    "# STEP 1: get the column, use panda series and not the data frame\n",
    "brics['area']  \n",
    "\n",
    "# STEP 2: comparison\n",
    "brics['area'] > 8\n",
    "is_huge  = brics['area'] > 8\n",
    "print(is_huge)\n",
    "\n",
    "# STEP 3: subset DF\n",
    "print(\"---------------------------------------------\")\n",
    "print(brics[is_huge])\n"
   ]
  },
  {
   "cell_type": "code",
   "execution_count": 9,
   "metadata": {},
   "outputs": [
    {
     "name": "stdout",
     "output_type": "stream",
     "text": [
      "   country   capital    area  population\n",
      "BR  Brazil  Brasilia   8.516       200.4\n",
      "RU  Russia    Moscow  17.100       143.5\n",
      "CH   China   Beijing   9.597      1357.0\n"
     ]
    }
   ],
   "source": [
    "# do it all in a one liner\n",
    "print(brics[brics['area']>8])"
   ]
  },
  {
   "cell_type": "markdown",
   "metadata": {},
   "source": [
    "## Boolean Operators"
   ]
  },
  {
   "cell_type": "code",
   "execution_count": 4,
   "metadata": {},
   "outputs": [
    {
     "name": "stdout",
     "output_type": "stream",
     "text": [
      "   country   capital   area  population\n",
      "BR  Brazil  Brasilia  8.516       200.4\n",
      "CH   China   Beijing  9.597      1357.0\n"
     ]
    }
   ],
   "source": [
    "print(brics[np.logical_and(brics['area']>8, brics['area']<10)])"
   ]
  },
  {
   "cell_type": "code",
   "execution_count": 5,
   "metadata": {},
   "outputs": [
    {
     "name": "stdout",
     "output_type": "stream",
     "text": [
      "     cars_per_cap        country  drives_right\n",
      "US            809  United States          True\n",
      "RU            200         Russia          True\n",
      "MOR            70        Morocco          True\n",
      "EG             45          Egypt          True\n"
     ]
    }
   ],
   "source": [
    "# Import cars data\n",
    "cars = pd.read_csv('cars.csv', index_col = 0)\n",
    "\n",
    "# Extract drives_right column as Series: dr\n",
    "dr = cars['drives_right']\n",
    "\n",
    "# Use dr to subset cars: sel\n",
    "sel = cars[dr]\n",
    "\n",
    "# Print sel\n",
    "print(sel)"
   ]
  }
 ],
 "metadata": {
  "kernelspec": {
   "display_name": "Python 3",
   "language": "python",
   "name": "python3"
  },
  "language_info": {
   "codemirror_mode": {
    "name": "ipython",
    "version": 3
   },
   "file_extension": ".py",
   "mimetype": "text/x-python",
   "name": "python",
   "nbconvert_exporter": "python",
   "pygments_lexer": "ipython3",
   "version": "3.12.4"
  }
 },
 "nbformat": 4,
 "nbformat_minor": 2
}
