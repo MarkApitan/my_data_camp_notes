{
 "cells": [
  {
   "cell_type": "markdown",
   "id": "54ce99cd",
   "metadata": {},
   "source": [
    "# Chapter One\n",
    "\n",
    "## Introduction to Flat Files"
   ]
  },
  {
   "cell_type": "code",
   "execution_count": 4,
   "id": "bb003fb2",
   "metadata": {},
   "outputs": [
    {
     "name": "stdout",
     "output_type": "stream",
     "text": [
      "   STATEFIPS STATE  zipcode  agi_stub      N1  mars1  MARS2  MARS4   PREP  \\\n",
      "0         50    VT        0         1  111580  85090  14170  10740  45360   \n",
      "1         50    VT        0         2   82760  51960  18820  11310  35600   \n",
      "2         50    VT        0         3   46270  19540  22650   3620  24140   \n",
      "3         50    VT        0         4   30070   5830  22190    960  16060   \n",
      "4         50    VT        0         5   39530   3900  33800    590  22500   \n",
      "\n",
      "       N2  ...  N10300  A10300  N85530  A85530  N85300  A85300  N11901  \\\n",
      "0  130630  ...   53660   50699       0       0       0       0   10820   \n",
      "1  132950  ...   74340  221146       0       0       0       0   12820   \n",
      "2   91870  ...   44860  266097       0       0       0       0   10810   \n",
      "3   71610  ...   29580  264678       0       0       0       0    7320   \n",
      "4  103710  ...   39170  731963      40      24       0       0   12500   \n",
      "\n",
      "   A11901  N11902  A11902  \n",
      "0    9734   88260  138337  \n",
      "1   20029   68760  151729  \n",
      "2   24499   34600   90583  \n",
      "3   21573   21300   67045  \n",
      "4   67761   23320  103034  \n",
      "\n",
      "[5 rows x 147 columns]\n"
     ]
    }
   ],
   "source": [
    "import pandas as pd\n",
    "\n",
    "# Read the CSV and assign it to the variable data\n",
    "data = pd.read_csv(\"vt_tax_data_2016.csv\")\n",
    "\n",
    "# View the first few lines of data\n",
    "print(data.head())"
   ]
  },
  {
   "cell_type": "markdown",
   "id": "a94c002e",
   "metadata": {},
   "source": [
    "### Using Sep Function"
   ]
  },
  {
   "cell_type": "code",
   "execution_count": 6,
   "id": "266ec3cf",
   "metadata": {},
   "outputs": [
    {
     "data": {
      "image/png": "[encoded data removed]",
      "text/plain": [
       "<Figure size 640x480 with 1 Axes>"
      ]
     },
     "metadata": {},
     "output_type": "display_data"
    }
   ],
   "source": [
    "# Import pandas with the alias pd\n",
    "import pandas as pd\n",
    "import matplotlib.pyplot as plt\n",
    "\n",
    "# Load TSV using the sep keyword argument to set delimiter\n",
    "data = pd.read_csv(\"vt_tax_data_2016.tsv\", sep=\"\\t\")\n",
    "\n",
    "# Plot the total number of tax returns by income group\n",
    "counts = data.groupby(\"agi_stub\").N1.sum()\n",
    "counts.plot.bar()\n",
    "plt.show()"
   ]
  },
  {
   "cell_type": "markdown",
   "id": "9153ce0f",
   "metadata": {},
   "source": [
    "## Modifying Flat File Imports\n",
    "\n",
    "### Limiting Columns\n",
    "- Choose columns to load with *usecols*\n",
    "- Accepts a list of column numbers or names, or a function to filter column names\n",
    "\n",
    "### Limiting Rows\n",
    "- Limit the number of rows loaded with the *nrows* keyword argument\n",
    "- Use *nrows* and *skiprows* together to process a file in chunk\n",
    "- *skiprows* accepts a list of row numbers, a numbers of rows, or a function to filter rows\n",
    "- Set *header=None* so pandas knows there are no column names\n",
    "\n",
    "### Assigning Column Names\n",
    "- Supply column names by passing a list to the *names* argument \n",
    "- the list MUST have a name for every column in your data\n",
    "- If you only need to rename a few columns, do it after the import"
   ]
  },
  {
   "cell_type": "code",
   "execution_count": 7,
   "id": "bdb1ea01",
   "metadata": {},
   "outputs": [
    {
     "name": "stdout",
     "output_type": "stream",
     "text": [
      "          zipcode   mars1  MARS2  NUMDEP\n",
      "agi_stub                                \n",
      "1         1439444  170320  28480   52490\n",
      "2         1439444  104000  37690   64660\n",
      "3         1439444   39160  45390   47330\n",
      "4         1439444   11670  44410   37760\n",
      "5         1439444    7820  67750   60730\n",
      "6         1439444    1210  16340   16300\n"
     ]
    }
   ],
   "source": [
    "# Create list of columns to use\n",
    "cols = [\"zipcode\", \"agi_stub\", \"mars1\", \"MARS2\", \"NUMDEP\"]\n",
    "\n",
    "# Create dataframe from csv using only selected columns\n",
    "data = pd.read_csv(\"vt_tax_data_2016.csv\", usecols=cols)\n",
    "\n",
    "# View counts of dependents and tax returns by income level\n",
    "print(data.groupby(\"agi_stub\").sum())"
   ]
  },
  {
   "cell_type": "code",
   "execution_count": 12,
   "id": "fac3ee80",
   "metadata": {},
   "outputs": [],
   "source": [
    "names_list =[\"STATEFIPS\",\"STATE\",\"zipcode\" ,\"agi_stub\"]\n",
    "# Create dataframe of next 500 rows with labeled columns\n",
    "vt_data_next5 = pd.read_csv(\"vt_tax_data_2016.csv\", \n",
    "                       \t\t  nrows=5,\n",
    "                       \t\t  skiprows=5,\n",
    "                       \t\t  header=None,\n",
    "                       \t\t  names=names_list)\n"
   ]
  },
  {
   "cell_type": "markdown",
   "id": "b57fba43",
   "metadata": {},
   "source": [
    "## Handling Errors and Missing Data"
   ]
  }
 ],
 "metadata": {
  "kernelspec": {
   "display_name": "Python 3",
   "language": "python",
   "name": "python3"
  },
  "language_info": {
   "codemirror_mode": {
    "name": "ipython",
    "version": 3
   },
   "file_extension": ".py",
   "mimetype": "text/x-python",
   "name": "python",
   "nbconvert_exporter": "python",
   "pygments_lexer": "ipython3",
   "version": "3.12.4"
  }
 },
 "nbformat": 4,
 "nbformat_minor": 5
}
