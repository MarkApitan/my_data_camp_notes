{
 "cells": [
  {
   "cell_type": "markdown",
   "metadata": {},
   "source": [
    "# Introduction to Importing Data in Python\n",
    "\n",
    "## Introduction and Flat files\n",
    "\n",
    "### Importing Flat files using NumPy\n",
    "\n",
    "Why NumPy? \n",
    "- NumPy arrays: standard for storing numerical data\n",
    "- Essential for other packages: e.g. scikit-learn"
   ]
  },
  {
   "cell_type": "code",
   "execution_count": null,
   "metadata": {},
   "outputs": [],
   "source": [
    "import numpy as np\n",
    "filename = 'MNIST.txt'\n",
    "data = np.loadtxt(filename, delimiter=',', skiprows=1, usecols=[0,2], dtype = str)"
   ]
  },
  {
   "cell_type": "markdown",
   "metadata": {},
   "source": [
    "- skiprows: how many rows(not indices) you wish to skip\n",
    "- usecols: list of the indices of the columns you wish to keep\n",
    "- dtype: will ensure that all entries are imported into the data type you set it to  \n",
    "note: for tab-delimited use \\t"
   ]
  },
  {
   "cell_type": "markdown",
   "metadata": {},
   "source": [
    "loadtxt() is great for basic cases, but tends to break down when we have mixed datatypes  \n",
    "ex: columns consisting of floats and columns consisting of str"
   ]
  },
  {
   "cell_type": "markdown",
   "metadata": {},
   "source": [
    "### Importing Flat files using Pandas"
   ]
  },
  {
   "cell_type": "code",
   "execution_count": null,
   "metadata": {},
   "outputs": [],
   "source": [
    "import pandas as pd\n",
    "filename = 'winequality-red.csv'\n",
    "data = pd.read_csv(filename)\n",
    "data.head()\n",
    "data_array = data.to_numpy()"
   ]
  },
  {
   "cell_type": "markdown",
   "metadata": {},
   "source": [
    "data.head(): Checks the first 5 rows of the Dataframe including the header  \n",
    "data.to_numpy(): Converts the dataframe into a numpy array  \n",
    "\n",
    "There are a number of arguments that pd.read_csv() takes that you'll find useful for this exercise:\n",
    "\n",
    "- nrows: allows you to specify how many rows to read from the file. For example, nrows=10 will only import the first 10 rows.\n",
    "- header: accepts row numbers to use as the column labels and marks the start of the data. If the file does not contain a header row, you can set header=None, and pandas will automatically assign integer column labels starting from 0 (e.g., 0, 1, 2, ..)"
   ]
  },
  {
   "cell_type": "code",
   "execution_count": null,
   "metadata": {},
   "outputs": [],
   "source": [
    "# Assign the filename: file\n",
    "file = 'digits.csv'\n",
    "\n",
    "# Read the first 5 rows of the file into a DataFrame: data\n",
    "data = pd.read_csv(file, nrows = 5, header = None)\n",
    "\n",
    "# Build a numpy array from the DataFrame: data_array\n",
    "data_array = data.to_numpy()\n",
    "\n",
    "# Print the datatype of data_array to the shell\n",
    "print(type(data_array))"
   ]
  },
  {
   "cell_type": "markdown",
   "metadata": {},
   "source": [
    "Another key arguments for pd.read_csv include:\n",
    "- sep: sets the expected delimiter.  \n",
    "You can use ',' for comma-delimited.  \n",
    "You can use '\\t' for tab-delimited.  \n",
    "\n",
    "- comment: takes characters that comments occur after in the file, indicating that any text starting with these characters should be ignored.  \n",
    "\n",
    "- na_values: takes a list of strings to identify as NA/NaN. By default, some values are already recognized as NA/NaN. Providing this argument will supply additional values."
   ]
  },
  {
   "cell_type": "code",
   "execution_count": null,
   "metadata": {},
   "outputs": [],
   "source": [
    "# Assign filename: file\n",
    "file = 'titanic_corrupt.txt'\n",
    "\n",
    "# Import file: data\n",
    "data = pd.read_csv(file, sep='\\t', comment='#', na_values=['Nothing'])\n",
    "\n",
    "# Print the head of the DataFrame\n",
    "print(data.head())"
   ]
  }
 ],
 "metadata": {
  "kernelspec": {
   "display_name": "Python 3",
   "language": "python",
   "name": "python3"
  },
  "language_info": {
   "codemirror_mode": {
    "name": "ipython",
    "version": 3
   },
   "file_extension": ".py",
   "mimetype": "text/x-python",
   "name": "python",
   "nbconvert_exporter": "python",
   "pygments_lexer": "ipython3",
   "version": "3.12.4"
  }
 },
 "nbformat": 4,
 "nbformat_minor": 2
}
